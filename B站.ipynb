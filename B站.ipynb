{
 "cells": [
  {
   "cell_type": "code",
   "execution_count": 334,
   "metadata": {},
   "outputs": [],
   "source": [
    "import pandas as pd\n",
    "import numpy as np\n",
    "\n",
    "import matplotlib.pyplot as plt\n",
    "import seaborn as sns\n",
    "from mpl_toolkits.mplot3d import Axes3D\n",
    "\"\"\"设置中文\"\"\"\n",
    "plt.rcParams[\"font.family\"] = ['Arial Unicode MS']  # 用来正常显示中文标签\n",
    "plt.rcParams['axes.unicode_minus']=False  #解决保存图像是负号'-'显示为方块的问题\n",
    "\n",
    "from sklearn.preprocessing import MinMaxScaler\n",
    "from sklearn.cluster import KMeans\n",
    "\n",
    "%matplotlib inline\n",
    "sns.set()"
   ]
  },
  {
   "cell_type": "markdown",
   "metadata": {},
   "source": [
    "# 1、数据探索"
   ]
  },
  {
   "cell_type": "code",
   "execution_count": 335,
   "metadata": {},
   "outputs": [
    {
     "data": {
      "text/html": [
       "<div>\n",
       "<style scoped>\n",
       "    .dataframe tbody tr th:only-of-type {\n",
       "        vertical-align: middle;\n",
       "    }\n",
       "\n",
       "    .dataframe tbody tr th {\n",
       "        vertical-align: top;\n",
       "    }\n",
       "\n",
       "    .dataframe thead th {\n",
       "        text-align: right;\n",
       "    }\n",
       "</style>\n",
       "<table border=\"1\" class=\"dataframe\">\n",
       "  <thead>\n",
       "    <tr style=\"text-align: right;\">\n",
       "      <th></th>\n",
       "      <th>分区</th>\n",
       "      <th>bv</th>\n",
       "      <th>author</th>\n",
       "      <th>mid</th>\n",
       "      <th>date</th>\n",
       "      <th>url</th>\n",
       "      <th>title</th>\n",
       "      <th>coin</th>\n",
       "      <th>danmu</th>\n",
       "      <th>favorite</th>\n",
       "      <th>like</th>\n",
       "      <th>comment</th>\n",
       "      <th>share</th>\n",
       "      <th>view</th>\n",
       "    </tr>\n",
       "  </thead>\n",
       "  <tbody>\n",
       "    <tr>\n",
       "      <th>36659</th>\n",
       "      <td>社科人文</td>\n",
       "      <td>BV1pt411K7NL</td>\n",
       "      <td>太阳星sunstar</td>\n",
       "      <td>11684621.0</td>\n",
       "      <td>2019-08-06 19:05:38</td>\n",
       "      <td>http://www.bilibili.com/video/av62395442</td>\n",
       "      <td>全世界的“战国” ， 割据的世界序幕片 【猩猿崛起04 欧】</td>\n",
       "      <td>9876.0</td>\n",
       "      <td>1370.0</td>\n",
       "      <td>4905.0</td>\n",
       "      <td>27913.0</td>\n",
       "      <td>548.0</td>\n",
       "      <td>268.0</td>\n",
       "      <td>419265.0</td>\n",
       "    </tr>\n",
       "    <tr>\n",
       "      <th>12224</th>\n",
       "      <td>社科人文</td>\n",
       "      <td>BV1v7411C7Lj</td>\n",
       "      <td>动动枪DongDongGun</td>\n",
       "      <td>490494088.0</td>\n",
       "      <td>2020-03-26 11:37:38</td>\n",
       "      <td>http://www.bilibili.com/video/av99430149</td>\n",
       "      <td>那些曾经运给中国口罩的国家，现在我们数倍还回去</td>\n",
       "      <td>13848.0</td>\n",
       "      <td>4903.0</td>\n",
       "      <td>4671.0</td>\n",
       "      <td>57891.0</td>\n",
       "      <td>2071.0</td>\n",
       "      <td>575.0</td>\n",
       "      <td>586739.0</td>\n",
       "    </tr>\n",
       "    <tr>\n",
       "      <th>33630</th>\n",
       "      <td>汽车</td>\n",
       "      <td>BV1u4411G7Xi</td>\n",
       "      <td>开车大神</td>\n",
       "      <td>40711647.0</td>\n",
       "      <td>2019-06-17 15:26:23</td>\n",
       "      <td>http://www.bilibili.com/video/av55878830</td>\n",
       "      <td>司机开车贴地飞行，街头上演速度激情！</td>\n",
       "      <td>1053.0</td>\n",
       "      <td>703.0</td>\n",
       "      <td>501.0</td>\n",
       "      <td>4882.0</td>\n",
       "      <td>330.0</td>\n",
       "      <td>230.0</td>\n",
       "      <td>181447.0</td>\n",
       "    </tr>\n",
       "    <tr>\n",
       "      <th>18591</th>\n",
       "      <td>汽车</td>\n",
       "      <td>BV1aJ41157KC</td>\n",
       "      <td>ARMYTRIX亚洲总部</td>\n",
       "      <td>478570484.0</td>\n",
       "      <td>2020-01-08 12:35:47</td>\n",
       "      <td>http://www.bilibili.com/video/av82539673</td>\n",
       "      <td>低趴宽体奥迪RS6 | ARMYTRIX全段排气 | ADV1轮毂 | 搭上沉稳纳多灰 化身...</td>\n",
       "      <td>273.0</td>\n",
       "      <td>112.0</td>\n",
       "      <td>879.0</td>\n",
       "      <td>919.0</td>\n",
       "      <td>139.0</td>\n",
       "      <td>256.0</td>\n",
       "      <td>60003.0</td>\n",
       "    </tr>\n",
       "    <tr>\n",
       "      <th>21902</th>\n",
       "      <td>机械</td>\n",
       "      <td>BV1n741127GB</td>\n",
       "      <td>天下要闻</td>\n",
       "      <td>490498956.0</td>\n",
       "      <td>2020-03-24 17:34:08</td>\n",
       "      <td>http://www.bilibili.com/video/av98948382</td>\n",
       "      <td>这尼玛是未来的科技吧~~~~~星战？？？？？</td>\n",
       "      <td>259.0</td>\n",
       "      <td>681.0</td>\n",
       "      <td>2922.0</td>\n",
       "      <td>9421.0</td>\n",
       "      <td>927.0</td>\n",
       "      <td>688.0</td>\n",
       "      <td>444279.0</td>\n",
       "    </tr>\n",
       "  </tbody>\n",
       "</table>\n",
       "</div>"
      ],
      "text/plain": [
       "         分区            bv          author          mid                 date  \\\n",
       "36659  社科人文  BV1pt411K7NL      太阳星sunstar   11684621.0  2019-08-06 19:05:38   \n",
       "12224  社科人文  BV1v7411C7Lj  动动枪DongDongGun  490494088.0  2020-03-26 11:37:38   \n",
       "33630    汽车  BV1u4411G7Xi            开车大神   40711647.0  2019-06-17 15:26:23   \n",
       "18591    汽车  BV1aJ41157KC    ARMYTRIX亚洲总部  478570484.0  2020-01-08 12:35:47   \n",
       "21902    机械  BV1n741127GB            天下要闻  490498956.0  2020-03-24 17:34:08   \n",
       "\n",
       "                                            url  \\\n",
       "36659  http://www.bilibili.com/video/av62395442   \n",
       "12224  http://www.bilibili.com/video/av99430149   \n",
       "33630  http://www.bilibili.com/video/av55878830   \n",
       "18591  http://www.bilibili.com/video/av82539673   \n",
       "21902  http://www.bilibili.com/video/av98948382   \n",
       "\n",
       "                                                   title     coin   danmu  \\\n",
       "36659                     全世界的“战国” ， 割据的世界序幕片 【猩猿崛起04 欧】   9876.0  1370.0   \n",
       "12224                            那些曾经运给中国口罩的国家，现在我们数倍还回去  13848.0  4903.0   \n",
       "33630                                 司机开车贴地飞行，街头上演速度激情！   1053.0   703.0   \n",
       "18591  低趴宽体奥迪RS6 | ARMYTRIX全段排气 | ADV1轮毂 | 搭上沉稳纳多灰 化身...    273.0   112.0   \n",
       "21902                             这尼玛是未来的科技吧~~~~~星战？？？？？    259.0   681.0   \n",
       "\n",
       "       favorite     like  comment  share      view  \n",
       "36659    4905.0  27913.0    548.0  268.0  419265.0  \n",
       "12224    4671.0  57891.0   2071.0  575.0  586739.0  \n",
       "33630     501.0   4882.0    330.0  230.0  181447.0  \n",
       "18591     879.0    919.0    139.0  256.0   60003.0  \n",
       "21902    2922.0   9421.0    927.0  688.0  444279.0  "
      ]
     },
     "execution_count": 335,
     "metadata": {},
     "output_type": "execute_result"
    }
   ],
   "source": [
    "data = pd.read_excel(u'./b站分析数据.xlsx')\n",
    "# data.head(1)\n",
    "data.sample(5)"
   ]
  },
  {
   "cell_type": "code",
   "execution_count": 336,
   "metadata": {},
   "outputs": [
    {
     "name": "stdout",
     "output_type": "stream",
     "text": [
      "<class 'pandas.core.frame.DataFrame'>\n",
      "RangeIndex: 50129 entries, 0 to 50128\n",
      "Data columns (total 14 columns):\n",
      " #   Column    Non-Null Count  Dtype  \n",
      "---  ------    --------------  -----  \n",
      " 0   分区        50129 non-null  object \n",
      " 1   bv        50127 non-null  object \n",
      " 2   author    50117 non-null  object \n",
      " 3   mid       50127 non-null  float64\n",
      " 4   date      50126 non-null  object \n",
      " 5   url       50126 non-null  object \n",
      " 6   title     50123 non-null  object \n",
      " 7   coin      50124 non-null  float64\n",
      " 8   danmu     50124 non-null  float64\n",
      " 9   favorite  50124 non-null  float64\n",
      " 10  like      50124 non-null  float64\n",
      " 11  comment   50124 non-null  float64\n",
      " 12  share     50124 non-null  float64\n",
      " 13  view      50124 non-null  float64\n",
      "dtypes: float64(8), object(6)\n",
      "memory usage: 5.4+ MB\n"
     ]
    }
   ],
   "source": [
    "data.info()"
   ]
  },
  {
   "cell_type": "code",
   "execution_count": 337,
   "metadata": {},
   "outputs": [
    {
     "data": {
      "text/plain": [
       "社科人文            15532\n",
       "汽车               9638\n",
       "星海               9419\n",
       "野生技术协会           7060\n",
       "科学科普             6756\n",
       "机械               1719\n",
       "85814               1\n",
       "膊Ｕ秸?3532           1\n",
       "296233              1\n",
       "563                 1\n",
       "锤蠹曳窒恚?50        1\n",
       "Name: 分区, dtype: int64"
      ]
     },
     "execution_count": 337,
     "metadata": {},
     "output_type": "execute_result"
    }
   ],
   "source": [
    "data[\"分区\"].value_counts()"
   ]
  },
  {
   "cell_type": "code",
   "execution_count": 338,
   "metadata": {},
   "outputs": [
    {
     "data": {
      "text/html": [
       "<div>\n",
       "<style scoped>\n",
       "    .dataframe tbody tr th:only-of-type {\n",
       "        vertical-align: middle;\n",
       "    }\n",
       "\n",
       "    .dataframe tbody tr th {\n",
       "        vertical-align: top;\n",
       "    }\n",
       "\n",
       "    .dataframe thead th {\n",
       "        text-align: right;\n",
       "    }\n",
       "</style>\n",
       "<table border=\"1\" class=\"dataframe\">\n",
       "  <thead>\n",
       "    <tr style=\"text-align: right;\">\n",
       "      <th></th>\n",
       "      <th>count</th>\n",
       "      <th>mean</th>\n",
       "      <th>std</th>\n",
       "      <th>min</th>\n",
       "      <th>25%</th>\n",
       "      <th>50%</th>\n",
       "      <th>75%</th>\n",
       "      <th>max</th>\n",
       "    </tr>\n",
       "  </thead>\n",
       "  <tbody>\n",
       "    <tr>\n",
       "      <th>mid</th>\n",
       "      <td>50127.0</td>\n",
       "      <td>1.816982e+08</td>\n",
       "      <td>1.717324e+08</td>\n",
       "      <td>548.0</td>\n",
       "      <td>22009424.00</td>\n",
       "      <td>98205115.0</td>\n",
       "      <td>3.555957e+08</td>\n",
       "      <td>525921242.0</td>\n",
       "    </tr>\n",
       "    <tr>\n",
       "      <th>coin</th>\n",
       "      <td>50124.0</td>\n",
       "      <td>4.076449e+03</td>\n",
       "      <td>2.630866e+04</td>\n",
       "      <td>0.0</td>\n",
       "      <td>109.00</td>\n",
       "      <td>510.0</td>\n",
       "      <td>1.990000e+03</td>\n",
       "      <td>2286322.0</td>\n",
       "    </tr>\n",
       "    <tr>\n",
       "      <th>danmu</th>\n",
       "      <td>50124.0</td>\n",
       "      <td>1.355064e+03</td>\n",
       "      <td>5.585657e+03</td>\n",
       "      <td>0.0</td>\n",
       "      <td>163.00</td>\n",
       "      <td>395.0</td>\n",
       "      <td>9.780000e+02</td>\n",
       "      <td>322859.0</td>\n",
       "    </tr>\n",
       "    <tr>\n",
       "      <th>favorite</th>\n",
       "      <td>50124.0</td>\n",
       "      <td>3.295903e+03</td>\n",
       "      <td>1.513843e+04</td>\n",
       "      <td>0.0</td>\n",
       "      <td>319.00</td>\n",
       "      <td>766.0</td>\n",
       "      <td>2.127000e+03</td>\n",
       "      <td>987108.0</td>\n",
       "    </tr>\n",
       "    <tr>\n",
       "      <th>like</th>\n",
       "      <td>50124.0</td>\n",
       "      <td>9.773622e+03</td>\n",
       "      <td>3.311456e+04</td>\n",
       "      <td>0.0</td>\n",
       "      <td>1245.00</td>\n",
       "      <td>3149.0</td>\n",
       "      <td>7.639250e+03</td>\n",
       "      <td>1704113.0</td>\n",
       "    </tr>\n",
       "    <tr>\n",
       "      <th>comment</th>\n",
       "      <td>50124.0</td>\n",
       "      <td>8.349861e+02</td>\n",
       "      <td>1.718734e+03</td>\n",
       "      <td>0.0</td>\n",
       "      <td>216.00</td>\n",
       "      <td>403.0</td>\n",
       "      <td>8.250000e+02</td>\n",
       "      <td>49559.0</td>\n",
       "    </tr>\n",
       "    <tr>\n",
       "      <th>share</th>\n",
       "      <td>50124.0</td>\n",
       "      <td>9.991845e+02</td>\n",
       "      <td>5.720173e+03</td>\n",
       "      <td>0.0</td>\n",
       "      <td>74.00</td>\n",
       "      <td>196.0</td>\n",
       "      <td>5.460000e+02</td>\n",
       "      <td>373265.0</td>\n",
       "    </tr>\n",
       "    <tr>\n",
       "      <th>view</th>\n",
       "      <td>50124.0</td>\n",
       "      <td>2.353938e+05</td>\n",
       "      <td>4.201041e+05</td>\n",
       "      <td>50001.0</td>\n",
       "      <td>72636.75</td>\n",
       "      <td>116652.0</td>\n",
       "      <td>2.299362e+05</td>\n",
       "      <td>13850152.0</td>\n",
       "    </tr>\n",
       "  </tbody>\n",
       "</table>\n",
       "</div>"
      ],
      "text/plain": [
       "            count          mean           std      min          25%  \\\n",
       "mid       50127.0  1.816982e+08  1.717324e+08    548.0  22009424.00   \n",
       "coin      50124.0  4.076449e+03  2.630866e+04      0.0       109.00   \n",
       "danmu     50124.0  1.355064e+03  5.585657e+03      0.0       163.00   \n",
       "favorite  50124.0  3.295903e+03  1.513843e+04      0.0       319.00   \n",
       "like      50124.0  9.773622e+03  3.311456e+04      0.0      1245.00   \n",
       "comment   50124.0  8.349861e+02  1.718734e+03      0.0       216.00   \n",
       "share     50124.0  9.991845e+02  5.720173e+03      0.0        74.00   \n",
       "view      50124.0  2.353938e+05  4.201041e+05  50001.0     72636.75   \n",
       "\n",
       "                 50%           75%          max  \n",
       "mid       98205115.0  3.555957e+08  525921242.0  \n",
       "coin           510.0  1.990000e+03    2286322.0  \n",
       "danmu          395.0  9.780000e+02     322859.0  \n",
       "favorite       766.0  2.127000e+03     987108.0  \n",
       "like          3149.0  7.639250e+03    1704113.0  \n",
       "comment        403.0  8.250000e+02      49559.0  \n",
       "share          196.0  5.460000e+02     373265.0  \n",
       "view        116652.0  2.299362e+05   13850152.0  "
      ]
     },
     "execution_count": 338,
     "metadata": {},
     "output_type": "execute_result"
    }
   ],
   "source": [
    "data.describe().T"
   ]
  },
  {
   "cell_type": "code",
   "execution_count": 339,
   "metadata": {},
   "outputs": [
    {
     "data": {
      "text/plain": [
       "分区          0.000000\n",
       "bv          0.000040\n",
       "author      0.000239\n",
       "mid         0.000040\n",
       "date        0.000060\n",
       "url         0.000060\n",
       "title       0.000120\n",
       "coin        0.000100\n",
       "danmu       0.000100\n",
       "favorite    0.000100\n",
       "like        0.000100\n",
       "comment     0.000100\n",
       "share       0.000100\n",
       "view        0.000100\n",
       "dtype: float64"
      ]
     },
     "execution_count": 339,
     "metadata": {},
     "output_type": "execute_result"
    }
   ],
   "source": [
    "#查看缺失值比例\n",
    "data.isnull().mean()\n"
   ]
  },
  {
   "cell_type": "markdown",
   "metadata": {},
   "source": [
    "初步探索结果：\n",
    "- 去重、去空值\n",
    "- 日期需要进行转换为日期类型"
   ]
  },
  {
   "cell_type": "markdown",
   "metadata": {},
   "source": [
    "# 2、数据清洗"
   ]
  },
  {
   "cell_type": "code",
   "execution_count": 340,
   "metadata": {},
   "outputs": [],
   "source": [
    "#删除含有缺失值的行\n",
    "data.dropna(inplace=True)"
   ]
  },
  {
   "cell_type": "code",
   "execution_count": 341,
   "metadata": {},
   "outputs": [
    {
     "data": {
      "text/plain": [
       "分区          0\n",
       "bv          0\n",
       "author      0\n",
       "mid         0\n",
       "date        0\n",
       "url         0\n",
       "title       0\n",
       "coin        0\n",
       "danmu       0\n",
       "favorite    0\n",
       "like        0\n",
       "comment     0\n",
       "share       0\n",
       "view        0\n",
       "dtype: int64"
      ]
     },
     "execution_count": 341,
     "metadata": {},
     "output_type": "execute_result"
    }
   ],
   "source": [
    "#查看缺失值\n",
    "data.isnull().sum()"
   ]
  },
  {
   "cell_type": "code",
   "execution_count": 342,
   "metadata": {},
   "outputs": [],
   "source": [
    "data.drop_duplicates(keep=\"first\",inplace=True)"
   ]
  },
  {
   "cell_type": "code",
   "execution_count": 343,
   "metadata": {},
   "outputs": [],
   "source": [
    "#恢复索引\n",
    "data.index = range(data.shape[0])"
   ]
  },
  {
   "cell_type": "code",
   "execution_count": 344,
   "metadata": {},
   "outputs": [],
   "source": [
    "# 变换日期类型\n",
    "data['date'] = pd.to_datetime(data['date'], format='%Y-%m-%d %H:%M')"
   ]
  },
  {
   "cell_type": "markdown",
   "metadata": {},
   "source": [
    "# 构建IFL模型\n",
    "\n",
    "IFL模型\n",
    "\n",
    "I(Interaction_rate)：\n",
    "I值反映的是平均每个视频的互动率，互动率越高，表明其视频更能产生用户的共鸣，使其有话题感。\n",
    "\n",
    "I=(总弹幕数+总评论数)/总播放量/统计范围内视频数量\n",
    "\n",
    "F(Frequence)：\n",
    "F值表示的是每个视频的平均发布周期，每个视频之间的发布周期越短，说明内容生产者创作视频的时间也就越短，创作时间太长，不是忠实粉丝的用户可能将其遗忘。\n",
    "\n",
    "F=(统计范围内最晚发布视频时间-最早发布视频时间)/发布视频的数量\n",
    "\n",
    "L(Like_rate)：\n",
    "L值表示的是统计时间内发布视频的平均点赞率，越大表示视频质量越稳定，用户对up主的认可度也就越高。\n",
    "\n",
    "L=(点赞数X1+投币数X2+收藏数X3+分享数X4)/播放量/发布视频数"
   ]
  },
  {
   "cell_type": "code",
   "execution_count": 345,
   "metadata": {},
   "outputs": [
    {
     "name": "stdout",
     "output_type": "stream",
     "text": [
      "<class 'pandas.core.frame.DataFrame'>\n",
      "RangeIndex: 48799 entries, 0 to 48798\n",
      "Data columns (total 14 columns):\n",
      " #   Column    Non-Null Count  Dtype         \n",
      "---  ------    --------------  -----         \n",
      " 0   分区        48799 non-null  object        \n",
      " 1   bv        48799 non-null  object        \n",
      " 2   author    48799 non-null  object        \n",
      " 3   mid       48799 non-null  float64       \n",
      " 4   date      48799 non-null  datetime64[ns]\n",
      " 5   url       48799 non-null  object        \n",
      " 6   title     48799 non-null  object        \n",
      " 7   coin      48799 non-null  float64       \n",
      " 8   danmu     48799 non-null  float64       \n",
      " 9   favorite  48799 non-null  float64       \n",
      " 10  like      48799 non-null  float64       \n",
      " 11  comment   48799 non-null  float64       \n",
      " 12  share     48799 non-null  float64       \n",
      " 13  view      48799 non-null  float64       \n",
      "dtypes: datetime64[ns](1), float64(8), object(5)\n",
      "memory usage: 5.2+ MB\n"
     ]
    }
   ],
   "source": [
    "data.info()"
   ]
  },
  {
   "cell_type": "code",
   "execution_count": 346,
   "metadata": {},
   "outputs": [
    {
     "data": {
      "text/html": [
       "<div>\n",
       "<style scoped>\n",
       "    .dataframe tbody tr th:only-of-type {\n",
       "        vertical-align: middle;\n",
       "    }\n",
       "\n",
       "    .dataframe tbody tr th {\n",
       "        vertical-align: top;\n",
       "    }\n",
       "\n",
       "    .dataframe thead th {\n",
       "        text-align: right;\n",
       "    }\n",
       "</style>\n",
       "<table border=\"1\" class=\"dataframe\">\n",
       "  <thead>\n",
       "    <tr style=\"text-align: right;\">\n",
       "      <th></th>\n",
       "      <th>author</th>\n",
       "      <th>bv_count</th>\n",
       "      <th>danmus</th>\n",
       "      <th>comments</th>\n",
       "      <th>shares</th>\n",
       "      <th>views</th>\n",
       "    </tr>\n",
       "  </thead>\n",
       "  <tbody>\n",
       "    <tr>\n",
       "      <th>0</th>\n",
       "      <td>915114771</td>\n",
       "      <td>5</td>\n",
       "      <td>152.0</td>\n",
       "      <td>575.0</td>\n",
       "      <td>230.0</td>\n",
       "      <td>528818.0</td>\n",
       "    </tr>\n",
       "    <tr>\n",
       "      <th>1</th>\n",
       "      <td>1235623345</td>\n",
       "      <td>1</td>\n",
       "      <td>376.0</td>\n",
       "      <td>394.0</td>\n",
       "      <td>17.0</td>\n",
       "      <td>212872.0</td>\n",
       "    </tr>\n",
       "    <tr>\n",
       "      <th>2</th>\n",
       "      <td>18487150435</td>\n",
       "      <td>6</td>\n",
       "      <td>3468.0</td>\n",
       "      <td>5845.0</td>\n",
       "      <td>2118.0</td>\n",
       "      <td>2485203.0</td>\n",
       "    </tr>\n",
       "    <tr>\n",
       "      <th>3</th>\n",
       "      <td>--刃舞--</td>\n",
       "      <td>3</td>\n",
       "      <td>472.0</td>\n",
       "      <td>1337.0</td>\n",
       "      <td>271.0</td>\n",
       "      <td>217527.0</td>\n",
       "    </tr>\n",
       "    <tr>\n",
       "      <th>4</th>\n",
       "      <td>--猛禽--</td>\n",
       "      <td>1</td>\n",
       "      <td>211.0</td>\n",
       "      <td>163.0</td>\n",
       "      <td>17.0</td>\n",
       "      <td>196078.0</td>\n",
       "    </tr>\n",
       "  </tbody>\n",
       "</table>\n",
       "</div>"
      ],
      "text/plain": [
       "        author  bv_count  danmus  comments  shares      views\n",
       "0    915114771         5   152.0     575.0   230.0   528818.0\n",
       "1   1235623345         1   376.0     394.0    17.0   212872.0\n",
       "2  18487150435         6  3468.0    5845.0  2118.0  2485203.0\n",
       "3       --刃舞--         3   472.0    1337.0   271.0   217527.0\n",
       "4       --猛禽--         1   211.0     163.0    17.0   196078.0"
      ]
     },
     "execution_count": 346,
     "metadata": {},
     "output_type": "execute_result"
    }
   ],
   "source": [
    "#构造I\n",
    "IFL_I = data.groupby(['author'],as_index = False).agg({'bv':'count',\n",
    "                                                       'danmu':'sum',\n",
    "                                                       'comment':'sum',\n",
    "                                                       'share':'sum',\n",
    "                                                       'view':'sum'}).rename(columns={\"bv\": \"bv_count\",\n",
    "                                                                                      \"danmu\": \"danmus\", \n",
    "                                                                                      \"comment\": \"comments\",\n",
    "                                                                                      \"share\":\"shares\",\n",
    "                                                                                     \"view\":\"views\"})\n",
    "\n",
    "IFL_I.head()"
   ]
  },
  {
   "cell_type": "code",
   "execution_count": 347,
   "metadata": {},
   "outputs": [
    {
     "data": {
      "text/html": [
       "<div>\n",
       "<style scoped>\n",
       "    .dataframe tbody tr th:only-of-type {\n",
       "        vertical-align: middle;\n",
       "    }\n",
       "\n",
       "    .dataframe tbody tr th {\n",
       "        vertical-align: top;\n",
       "    }\n",
       "\n",
       "    .dataframe thead th {\n",
       "        text-align: right;\n",
       "    }\n",
       "</style>\n",
       "<table border=\"1\" class=\"dataframe\">\n",
       "  <thead>\n",
       "    <tr style=\"text-align: right;\">\n",
       "      <th></th>\n",
       "      <th>author</th>\n",
       "      <th>date_min</th>\n",
       "      <th>date_max</th>\n",
       "    </tr>\n",
       "  </thead>\n",
       "  <tbody>\n",
       "    <tr>\n",
       "      <th>0</th>\n",
       "      <td>915114771</td>\n",
       "      <td>2019-07-09 12:56:46</td>\n",
       "      <td>2019-09-11 14:37:43</td>\n",
       "    </tr>\n",
       "    <tr>\n",
       "      <th>1</th>\n",
       "      <td>1235623345</td>\n",
       "      <td>2019-08-02 17:23:23</td>\n",
       "      <td>2019-08-02 17:23:23</td>\n",
       "    </tr>\n",
       "    <tr>\n",
       "      <th>2</th>\n",
       "      <td>18487150435</td>\n",
       "      <td>2019-04-11 13:44:16</td>\n",
       "      <td>2019-04-11 16:08:06</td>\n",
       "    </tr>\n",
       "    <tr>\n",
       "      <th>3</th>\n",
       "      <td>--刃舞--</td>\n",
       "      <td>2019-03-08 23:34:21</td>\n",
       "      <td>2019-08-22 14:51:23</td>\n",
       "    </tr>\n",
       "    <tr>\n",
       "      <th>4</th>\n",
       "      <td>--猛禽--</td>\n",
       "      <td>2019-08-02 14:24:46</td>\n",
       "      <td>2019-08-02 14:24:46</td>\n",
       "    </tr>\n",
       "  </tbody>\n",
       "</table>\n",
       "</div>"
      ],
      "text/plain": [
       "        author            date_min            date_max\n",
       "0    915114771 2019-07-09 12:56:46 2019-09-11 14:37:43\n",
       "1   1235623345 2019-08-02 17:23:23 2019-08-02 17:23:23\n",
       "2  18487150435 2019-04-11 13:44:16 2019-04-11 16:08:06\n",
       "3       --刃舞-- 2019-03-08 23:34:21 2019-08-22 14:51:23\n",
       "4       --猛禽-- 2019-08-02 14:24:46 2019-08-02 14:24:46"
      ]
     },
     "execution_count": 347,
     "metadata": {},
     "output_type": "execute_result"
    }
   ],
   "source": [
    "#构造F\n",
    "IFL_F = data.groupby('author')['date'].agg([np.min,np.max]).reset_index().rename(columns={\"amin\": \"date_min\", \"amax\": \"date_max\"})\n",
    "\n",
    "IFL_F.head()"
   ]
  },
  {
   "cell_type": "code",
   "execution_count": 348,
   "metadata": {},
   "outputs": [
    {
     "data": {
      "text/html": [
       "<div>\n",
       "<style scoped>\n",
       "    .dataframe tbody tr th:only-of-type {\n",
       "        vertical-align: middle;\n",
       "    }\n",
       "\n",
       "    .dataframe tbody tr th {\n",
       "        vertical-align: top;\n",
       "    }\n",
       "\n",
       "    .dataframe thead th {\n",
       "        text-align: right;\n",
       "    }\n",
       "</style>\n",
       "<table border=\"1\" class=\"dataframe\">\n",
       "  <thead>\n",
       "    <tr style=\"text-align: right;\">\n",
       "      <th></th>\n",
       "      <th>author</th>\n",
       "      <th>L</th>\n",
       "    </tr>\n",
       "  </thead>\n",
       "  <tbody>\n",
       "    <tr>\n",
       "      <th>0</th>\n",
       "      <td>915114771</td>\n",
       "      <td>0.041226</td>\n",
       "    </tr>\n",
       "    <tr>\n",
       "      <th>1</th>\n",
       "      <td>1235623345</td>\n",
       "      <td>0.016489</td>\n",
       "    </tr>\n",
       "    <tr>\n",
       "      <th>2</th>\n",
       "      <td>18487150435</td>\n",
       "      <td>0.091997</td>\n",
       "    </tr>\n",
       "    <tr>\n",
       "      <th>3</th>\n",
       "      <td>--刃舞--</td>\n",
       "      <td>0.460481</td>\n",
       "    </tr>\n",
       "    <tr>\n",
       "      <th>4</th>\n",
       "      <td>--猛禽--</td>\n",
       "      <td>0.005977</td>\n",
       "    </tr>\n",
       "  </tbody>\n",
       "</table>\n",
       "</div>"
      ],
      "text/plain": [
       "        author         L\n",
       "0    915114771  0.041226\n",
       "1   1235623345  0.016489\n",
       "2  18487150435  0.091997\n",
       "3       --刃舞--  0.460481\n",
       "4       --猛禽--  0.005977"
      ]
     },
     "execution_count": 348,
     "metadata": {},
     "output_type": "execute_result"
    }
   ],
   "source": [
    "#构造L\n",
    "\n",
    "data['L'] = (data['like'] + data['coin']*2 + data['favorite']*3 + data['share']*4) / data['view']\n",
    "\n",
    "IFL_L = data.groupby('author')['L'].agg(np.sum).reset_index()\n",
    "\n",
    "IFL_L.head()"
   ]
  },
  {
   "cell_type": "code",
   "execution_count": 349,
   "metadata": {},
   "outputs": [
    {
     "data": {
      "text/html": [
       "<div>\n",
       "<style scoped>\n",
       "    .dataframe tbody tr th:only-of-type {\n",
       "        vertical-align: middle;\n",
       "    }\n",
       "\n",
       "    .dataframe tbody tr th {\n",
       "        vertical-align: top;\n",
       "    }\n",
       "\n",
       "    .dataframe thead th {\n",
       "        text-align: right;\n",
       "    }\n",
       "</style>\n",
       "<table border=\"1\" class=\"dataframe\">\n",
       "  <thead>\n",
       "    <tr style=\"text-align: right;\">\n",
       "      <th></th>\n",
       "      <th>author</th>\n",
       "      <th>bv_count</th>\n",
       "      <th>danmus</th>\n",
       "      <th>comments</th>\n",
       "      <th>shares</th>\n",
       "      <th>views</th>\n",
       "      <th>date_min</th>\n",
       "      <th>date_max</th>\n",
       "    </tr>\n",
       "  </thead>\n",
       "  <tbody>\n",
       "    <tr>\n",
       "      <th>0</th>\n",
       "      <td>915114771</td>\n",
       "      <td>5</td>\n",
       "      <td>152.0</td>\n",
       "      <td>575.0</td>\n",
       "      <td>230.0</td>\n",
       "      <td>528818.0</td>\n",
       "      <td>2019-07-09 12:56:46</td>\n",
       "      <td>2019-09-11 14:37:43</td>\n",
       "    </tr>\n",
       "    <tr>\n",
       "      <th>1</th>\n",
       "      <td>1235623345</td>\n",
       "      <td>1</td>\n",
       "      <td>376.0</td>\n",
       "      <td>394.0</td>\n",
       "      <td>17.0</td>\n",
       "      <td>212872.0</td>\n",
       "      <td>2019-08-02 17:23:23</td>\n",
       "      <td>2019-08-02 17:23:23</td>\n",
       "    </tr>\n",
       "    <tr>\n",
       "      <th>2</th>\n",
       "      <td>18487150435</td>\n",
       "      <td>6</td>\n",
       "      <td>3468.0</td>\n",
       "      <td>5845.0</td>\n",
       "      <td>2118.0</td>\n",
       "      <td>2485203.0</td>\n",
       "      <td>2019-04-11 13:44:16</td>\n",
       "      <td>2019-04-11 16:08:06</td>\n",
       "    </tr>\n",
       "    <tr>\n",
       "      <th>3</th>\n",
       "      <td>--刃舞--</td>\n",
       "      <td>3</td>\n",
       "      <td>472.0</td>\n",
       "      <td>1337.0</td>\n",
       "      <td>271.0</td>\n",
       "      <td>217527.0</td>\n",
       "      <td>2019-03-08 23:34:21</td>\n",
       "      <td>2019-08-22 14:51:23</td>\n",
       "    </tr>\n",
       "    <tr>\n",
       "      <th>4</th>\n",
       "      <td>--猛禽--</td>\n",
       "      <td>1</td>\n",
       "      <td>211.0</td>\n",
       "      <td>163.0</td>\n",
       "      <td>17.0</td>\n",
       "      <td>196078.0</td>\n",
       "      <td>2019-08-02 14:24:46</td>\n",
       "      <td>2019-08-02 14:24:46</td>\n",
       "    </tr>\n",
       "  </tbody>\n",
       "</table>\n",
       "</div>"
      ],
      "text/plain": [
       "        author  bv_count  danmus  comments  shares      views  \\\n",
       "0    915114771         5   152.0     575.0   230.0   528818.0   \n",
       "1   1235623345         1   376.0     394.0    17.0   212872.0   \n",
       "2  18487150435         6  3468.0    5845.0  2118.0  2485203.0   \n",
       "3       --刃舞--         3   472.0    1337.0   271.0   217527.0   \n",
       "4       --猛禽--         1   211.0     163.0    17.0   196078.0   \n",
       "\n",
       "             date_min            date_max  \n",
       "0 2019-07-09 12:56:46 2019-09-11 14:37:43  \n",
       "1 2019-08-02 17:23:23 2019-08-02 17:23:23  \n",
       "2 2019-04-11 13:44:16 2019-04-11 16:08:06  \n",
       "3 2019-03-08 23:34:21 2019-08-22 14:51:23  \n",
       "4 2019-08-02 14:24:46 2019-08-02 14:24:46  "
      ]
     },
     "execution_count": 349,
     "metadata": {},
     "output_type": "execute_result"
    }
   ],
   "source": [
    "I_F = pd.merge(IFL_I,IFL_F, on='author', how='inner')\n",
    "I_F.head()"
   ]
  },
  {
   "cell_type": "code",
   "execution_count": 350,
   "metadata": {},
   "outputs": [
    {
     "data": {
      "text/html": [
       "<div>\n",
       "<style scoped>\n",
       "    .dataframe tbody tr th:only-of-type {\n",
       "        vertical-align: middle;\n",
       "    }\n",
       "\n",
       "    .dataframe tbody tr th {\n",
       "        vertical-align: top;\n",
       "    }\n",
       "\n",
       "    .dataframe thead th {\n",
       "        text-align: right;\n",
       "    }\n",
       "</style>\n",
       "<table border=\"1\" class=\"dataframe\">\n",
       "  <thead>\n",
       "    <tr style=\"text-align: right;\">\n",
       "      <th></th>\n",
       "      <th>author</th>\n",
       "      <th>bv_count</th>\n",
       "      <th>danmus</th>\n",
       "      <th>comments</th>\n",
       "      <th>shares</th>\n",
       "      <th>views</th>\n",
       "      <th>date_min</th>\n",
       "      <th>date_max</th>\n",
       "      <th>L</th>\n",
       "    </tr>\n",
       "  </thead>\n",
       "  <tbody>\n",
       "    <tr>\n",
       "      <th>0</th>\n",
       "      <td>915114771</td>\n",
       "      <td>5</td>\n",
       "      <td>152.0</td>\n",
       "      <td>575.0</td>\n",
       "      <td>230.0</td>\n",
       "      <td>528818.0</td>\n",
       "      <td>2019-07-09 12:56:46</td>\n",
       "      <td>2019-09-11 14:37:43</td>\n",
       "      <td>0.041226</td>\n",
       "    </tr>\n",
       "    <tr>\n",
       "      <th>1</th>\n",
       "      <td>1235623345</td>\n",
       "      <td>1</td>\n",
       "      <td>376.0</td>\n",
       "      <td>394.0</td>\n",
       "      <td>17.0</td>\n",
       "      <td>212872.0</td>\n",
       "      <td>2019-08-02 17:23:23</td>\n",
       "      <td>2019-08-02 17:23:23</td>\n",
       "      <td>0.016489</td>\n",
       "    </tr>\n",
       "    <tr>\n",
       "      <th>2</th>\n",
       "      <td>18487150435</td>\n",
       "      <td>6</td>\n",
       "      <td>3468.0</td>\n",
       "      <td>5845.0</td>\n",
       "      <td>2118.0</td>\n",
       "      <td>2485203.0</td>\n",
       "      <td>2019-04-11 13:44:16</td>\n",
       "      <td>2019-04-11 16:08:06</td>\n",
       "      <td>0.091997</td>\n",
       "    </tr>\n",
       "    <tr>\n",
       "      <th>3</th>\n",
       "      <td>--刃舞--</td>\n",
       "      <td>3</td>\n",
       "      <td>472.0</td>\n",
       "      <td>1337.0</td>\n",
       "      <td>271.0</td>\n",
       "      <td>217527.0</td>\n",
       "      <td>2019-03-08 23:34:21</td>\n",
       "      <td>2019-08-22 14:51:23</td>\n",
       "      <td>0.460481</td>\n",
       "    </tr>\n",
       "    <tr>\n",
       "      <th>4</th>\n",
       "      <td>--猛禽--</td>\n",
       "      <td>1</td>\n",
       "      <td>211.0</td>\n",
       "      <td>163.0</td>\n",
       "      <td>17.0</td>\n",
       "      <td>196078.0</td>\n",
       "      <td>2019-08-02 14:24:46</td>\n",
       "      <td>2019-08-02 14:24:46</td>\n",
       "      <td>0.005977</td>\n",
       "    </tr>\n",
       "  </tbody>\n",
       "</table>\n",
       "</div>"
      ],
      "text/plain": [
       "        author  bv_count  danmus  comments  shares      views  \\\n",
       "0    915114771         5   152.0     575.0   230.0   528818.0   \n",
       "1   1235623345         1   376.0     394.0    17.0   212872.0   \n",
       "2  18487150435         6  3468.0    5845.0  2118.0  2485203.0   \n",
       "3       --刃舞--         3   472.0    1337.0   271.0   217527.0   \n",
       "4       --猛禽--         1   211.0     163.0    17.0   196078.0   \n",
       "\n",
       "             date_min            date_max         L  \n",
       "0 2019-07-09 12:56:46 2019-09-11 14:37:43  0.041226  \n",
       "1 2019-08-02 17:23:23 2019-08-02 17:23:23  0.016489  \n",
       "2 2019-04-11 13:44:16 2019-04-11 16:08:06  0.091997  \n",
       "3 2019-03-08 23:34:21 2019-08-22 14:51:23  0.460481  \n",
       "4 2019-08-02 14:24:46 2019-08-02 14:24:46  0.005977  "
      ]
     },
     "execution_count": 350,
     "metadata": {},
     "output_type": "execute_result"
    }
   ],
   "source": [
    "IFL = pd.merge(I_F,IFL_L, on='author', how='inner')\n",
    "IFL.head()"
   ]
  },
  {
   "cell_type": "code",
   "execution_count": 351,
   "metadata": {},
   "outputs": [
    {
     "data": {
      "text/html": [
       "<div>\n",
       "<style scoped>\n",
       "    .dataframe tbody tr th:only-of-type {\n",
       "        vertical-align: middle;\n",
       "    }\n",
       "\n",
       "    .dataframe tbody tr th {\n",
       "        vertical-align: top;\n",
       "    }\n",
       "\n",
       "    .dataframe thead th {\n",
       "        text-align: right;\n",
       "    }\n",
       "</style>\n",
       "<table border=\"1\" class=\"dataframe\">\n",
       "  <thead>\n",
       "    <tr style=\"text-align: right;\">\n",
       "      <th></th>\n",
       "      <th>author</th>\n",
       "      <th>bv_count</th>\n",
       "      <th>danmus</th>\n",
       "      <th>comments</th>\n",
       "      <th>shares</th>\n",
       "      <th>views</th>\n",
       "      <th>date_min</th>\n",
       "      <th>date_max</th>\n",
       "      <th>L</th>\n",
       "      <th>I</th>\n",
       "      <th>F</th>\n",
       "    </tr>\n",
       "  </thead>\n",
       "  <tbody>\n",
       "    <tr>\n",
       "      <th>7128</th>\n",
       "      <td>龙池山阿聪</td>\n",
       "      <td>3</td>\n",
       "      <td>111.0</td>\n",
       "      <td>723.0</td>\n",
       "      <td>261.0</td>\n",
       "      <td>719824.0</td>\n",
       "      <td>2020-01-05 00:02:02</td>\n",
       "      <td>2020-01-05 00:02:02</td>\n",
       "      <td>0.006806</td>\n",
       "      <td>0.000386</td>\n",
       "      <td>0.0</td>\n",
       "    </tr>\n",
       "    <tr>\n",
       "      <th>7129</th>\n",
       "      <td>龙猫斌</td>\n",
       "      <td>4</td>\n",
       "      <td>815.0</td>\n",
       "      <td>3242.0</td>\n",
       "      <td>769.0</td>\n",
       "      <td>507884.0</td>\n",
       "      <td>2019-09-15 04:00:48</td>\n",
       "      <td>2020-01-31 18:41:37</td>\n",
       "      <td>0.049765</td>\n",
       "      <td>0.001997</td>\n",
       "      <td>34.5</td>\n",
       "    </tr>\n",
       "    <tr>\n",
       "      <th>7130</th>\n",
       "      <td>龙膜隐形车衣旗舰店</td>\n",
       "      <td>2</td>\n",
       "      <td>118.0</td>\n",
       "      <td>582.0</td>\n",
       "      <td>154.0</td>\n",
       "      <td>533005.0</td>\n",
       "      <td>2019-08-12 12:59:01</td>\n",
       "      <td>2019-08-12 12:59:01</td>\n",
       "      <td>0.005512</td>\n",
       "      <td>0.000657</td>\n",
       "      <td>0.0</td>\n",
       "    </tr>\n",
       "    <tr>\n",
       "      <th>7131</th>\n",
       "      <td>龙雪傲</td>\n",
       "      <td>1</td>\n",
       "      <td>956.0</td>\n",
       "      <td>125.0</td>\n",
       "      <td>566.0</td>\n",
       "      <td>113605.0</td>\n",
       "      <td>2019-10-15 15:09:02</td>\n",
       "      <td>2019-10-15 15:09:02</td>\n",
       "      <td>0.380133</td>\n",
       "      <td>0.009515</td>\n",
       "      <td>0.0</td>\n",
       "    </tr>\n",
       "    <tr>\n",
       "      <th>7132</th>\n",
       "      <td>龙魂人形社</td>\n",
       "      <td>1</td>\n",
       "      <td>43.0</td>\n",
       "      <td>134.0</td>\n",
       "      <td>379.0</td>\n",
       "      <td>53724.0</td>\n",
       "      <td>2019-05-14 18:45:48</td>\n",
       "      <td>2019-05-14 18:45:48</td>\n",
       "      <td>0.141073</td>\n",
       "      <td>0.003295</td>\n",
       "      <td>0.0</td>\n",
       "    </tr>\n",
       "  </tbody>\n",
       "</table>\n",
       "</div>"
      ],
      "text/plain": [
       "         author  bv_count  danmus  comments  shares     views  \\\n",
       "7128      龙池山阿聪         3   111.0     723.0   261.0  719824.0   \n",
       "7129        龙猫斌         4   815.0    3242.0   769.0  507884.0   \n",
       "7130  龙膜隐形车衣旗舰店         2   118.0     582.0   154.0  533005.0   \n",
       "7131        龙雪傲         1   956.0     125.0   566.0  113605.0   \n",
       "7132      龙魂人形社         1    43.0     134.0   379.0   53724.0   \n",
       "\n",
       "                date_min            date_max         L         I     F  \n",
       "7128 2020-01-05 00:02:02 2020-01-05 00:02:02  0.006806  0.000386   0.0  \n",
       "7129 2019-09-15 04:00:48 2020-01-31 18:41:37  0.049765  0.001997  34.5  \n",
       "7130 2019-08-12 12:59:01 2019-08-12 12:59:01  0.005512  0.000657   0.0  \n",
       "7131 2019-10-15 15:09:02 2019-10-15 15:09:02  0.380133  0.009515   0.0  \n",
       "7132 2019-05-14 18:45:48 2019-05-14 18:45:48  0.141073  0.003295   0.0  "
      ]
     },
     "execution_count": 351,
     "metadata": {},
     "output_type": "execute_result"
    }
   ],
   "source": [
    "IFL['I'] = (IFL['danmus']+IFL['comments'])/IFL['views']/IFL['bv_count']\n",
    "IFL['F'] = (IFL['date_max']-IFL['date_min']).dt.days/IFL['bv_count']\n",
    "IFL['L'] = IFL['L']/IFL['bv_count']\n",
    "\n",
    "IFL.tail()"
   ]
  },
  {
   "cell_type": "code",
   "execution_count": 352,
   "metadata": {},
   "outputs": [
    {
     "data": {
      "text/html": [
       "<div>\n",
       "<style scoped>\n",
       "    .dataframe tbody tr th:only-of-type {\n",
       "        vertical-align: middle;\n",
       "    }\n",
       "\n",
       "    .dataframe tbody tr th {\n",
       "        vertical-align: top;\n",
       "    }\n",
       "\n",
       "    .dataframe thead th {\n",
       "        text-align: right;\n",
       "    }\n",
       "</style>\n",
       "<table border=\"1\" class=\"dataframe\">\n",
       "  <thead>\n",
       "    <tr style=\"text-align: right;\">\n",
       "      <th></th>\n",
       "      <th>author</th>\n",
       "      <th>I</th>\n",
       "      <th>F</th>\n",
       "      <th>L</th>\n",
       "    </tr>\n",
       "  </thead>\n",
       "  <tbody>\n",
       "    <tr>\n",
       "      <th>7128</th>\n",
       "      <td>龙池山阿聪</td>\n",
       "      <td>0.000386</td>\n",
       "      <td>0.0</td>\n",
       "      <td>0.006806</td>\n",
       "    </tr>\n",
       "    <tr>\n",
       "      <th>7129</th>\n",
       "      <td>龙猫斌</td>\n",
       "      <td>0.001997</td>\n",
       "      <td>34.5</td>\n",
       "      <td>0.049765</td>\n",
       "    </tr>\n",
       "    <tr>\n",
       "      <th>7130</th>\n",
       "      <td>龙膜隐形车衣旗舰店</td>\n",
       "      <td>0.000657</td>\n",
       "      <td>0.0</td>\n",
       "      <td>0.005512</td>\n",
       "    </tr>\n",
       "    <tr>\n",
       "      <th>7131</th>\n",
       "      <td>龙雪傲</td>\n",
       "      <td>0.009515</td>\n",
       "      <td>0.0</td>\n",
       "      <td>0.380133</td>\n",
       "    </tr>\n",
       "    <tr>\n",
       "      <th>7132</th>\n",
       "      <td>龙魂人形社</td>\n",
       "      <td>0.003295</td>\n",
       "      <td>0.0</td>\n",
       "      <td>0.141073</td>\n",
       "    </tr>\n",
       "  </tbody>\n",
       "</table>\n",
       "</div>"
      ],
      "text/plain": [
       "         author         I     F         L\n",
       "7128      龙池山阿聪  0.000386   0.0  0.006806\n",
       "7129        龙猫斌  0.001997  34.5  0.049765\n",
       "7130  龙膜隐形车衣旗舰店  0.000657   0.0  0.005512\n",
       "7131        龙雪傲  0.009515   0.0  0.380133\n",
       "7132      龙魂人形社  0.003295   0.0  0.141073"
      ]
     },
     "execution_count": 352,
     "metadata": {},
     "output_type": "execute_result"
    }
   ],
   "source": [
    "IFL_final = IFL[['author', 'I','F','L']]\n",
    "IFL_final.tail()"
   ]
  },
  {
   "cell_type": "code",
   "execution_count": 353,
   "metadata": {},
   "outputs": [
    {
     "data": {
      "text/html": [
       "<div>\n",
       "<style scoped>\n",
       "    .dataframe tbody tr th:only-of-type {\n",
       "        vertical-align: middle;\n",
       "    }\n",
       "\n",
       "    .dataframe tbody tr th {\n",
       "        vertical-align: top;\n",
       "    }\n",
       "\n",
       "    .dataframe thead th {\n",
       "        text-align: right;\n",
       "    }\n",
       "</style>\n",
       "<table border=\"1\" class=\"dataframe\">\n",
       "  <thead>\n",
       "    <tr style=\"text-align: right;\">\n",
       "      <th></th>\n",
       "      <th>count</th>\n",
       "      <th>mean</th>\n",
       "      <th>std</th>\n",
       "      <th>min</th>\n",
       "      <th>25%</th>\n",
       "      <th>50%</th>\n",
       "      <th>75%</th>\n",
       "      <th>max</th>\n",
       "    </tr>\n",
       "  </thead>\n",
       "  <tbody>\n",
       "    <tr>\n",
       "      <th>I</th>\n",
       "      <td>7133.0</td>\n",
       "      <td>0.004238</td>\n",
       "      <td>0.006164</td>\n",
       "      <td>0.0</td>\n",
       "      <td>0.001090</td>\n",
       "      <td>0.002458</td>\n",
       "      <td>0.005231</td>\n",
       "      <td>0.156047</td>\n",
       "    </tr>\n",
       "    <tr>\n",
       "      <th>F</th>\n",
       "      <td>7133.0</td>\n",
       "      <td>7.350853</td>\n",
       "      <td>17.675589</td>\n",
       "      <td>0.0</td>\n",
       "      <td>0.000000</td>\n",
       "      <td>0.000000</td>\n",
       "      <td>5.875000</td>\n",
       "      <td>223.000000</td>\n",
       "    </tr>\n",
       "    <tr>\n",
       "      <th>L</th>\n",
       "      <td>7133.0</td>\n",
       "      <td>0.117477</td>\n",
       "      <td>0.156372</td>\n",
       "      <td>0.0</td>\n",
       "      <td>0.021378</td>\n",
       "      <td>0.055876</td>\n",
       "      <td>0.151517</td>\n",
       "      <td>1.648348</td>\n",
       "    </tr>\n",
       "  </tbody>\n",
       "</table>\n",
       "</div>"
      ],
      "text/plain": [
       "    count      mean        std  min       25%       50%       75%         max\n",
       "I  7133.0  0.004238   0.006164  0.0  0.001090  0.002458  0.005231    0.156047\n",
       "F  7133.0  7.350853  17.675589  0.0  0.000000  0.000000  5.875000  223.000000\n",
       "L  7133.0  0.117477   0.156372  0.0  0.021378  0.055876  0.151517    1.648348"
      ]
     },
     "execution_count": 353,
     "metadata": {},
     "output_type": "execute_result"
    }
   ],
   "source": [
    "IFL_final.describe().T"
   ]
  },
  {
   "cell_type": "markdown",
   "metadata": {},
   "source": [
    "### 特征归一化"
   ]
  },
  {
   "cell_type": "code",
   "execution_count": 354,
   "metadata": {},
   "outputs": [
    {
     "data": {
      "text/html": [
       "<div>\n",
       "<style scoped>\n",
       "    .dataframe tbody tr th:only-of-type {\n",
       "        vertical-align: middle;\n",
       "    }\n",
       "\n",
       "    .dataframe tbody tr th {\n",
       "        vertical-align: top;\n",
       "    }\n",
       "\n",
       "    .dataframe thead th {\n",
       "        text-align: right;\n",
       "    }\n",
       "</style>\n",
       "<table border=\"1\" class=\"dataframe\">\n",
       "  <thead>\n",
       "    <tr style=\"text-align: right;\">\n",
       "      <th></th>\n",
       "      <th>I</th>\n",
       "      <th>F</th>\n",
       "      <th>L</th>\n",
       "    </tr>\n",
       "  </thead>\n",
       "  <tbody>\n",
       "    <tr>\n",
       "      <th>0</th>\n",
       "      <td>0.001762</td>\n",
       "      <td>0.057399</td>\n",
       "      <td>0.005002</td>\n",
       "    </tr>\n",
       "    <tr>\n",
       "      <th>1</th>\n",
       "      <td>0.023180</td>\n",
       "      <td>0.000000</td>\n",
       "      <td>0.010003</td>\n",
       "    </tr>\n",
       "    <tr>\n",
       "      <th>2</th>\n",
       "      <td>0.004002</td>\n",
       "      <td>0.000000</td>\n",
       "      <td>0.009302</td>\n",
       "    </tr>\n",
       "    <tr>\n",
       "      <th>3</th>\n",
       "      <td>0.017764</td>\n",
       "      <td>0.248132</td>\n",
       "      <td>0.093120</td>\n",
       "    </tr>\n",
       "    <tr>\n",
       "      <th>4</th>\n",
       "      <td>0.012223</td>\n",
       "      <td>0.000000</td>\n",
       "      <td>0.003626</td>\n",
       "    </tr>\n",
       "  </tbody>\n",
       "</table>\n",
       "</div>"
      ],
      "text/plain": [
       "          I         F         L\n",
       "0  0.001762  0.057399  0.005002\n",
       "1  0.023180  0.000000  0.010003\n",
       "2  0.004002  0.000000  0.009302\n",
       "3  0.017764  0.248132  0.093120\n",
       "4  0.012223  0.000000  0.003626"
      ]
     },
     "execution_count": 354,
     "metadata": {},
     "output_type": "execute_result"
    }
   ],
   "source": [
    "df_ifl=IFL_final.drop(columns=['author'])\n",
    "X = MinMaxScaler().fit_transform(df_ifl)\n",
    "df_ifl_scaled = pd.DataFrame(data=X, columns=list(df_ifl.columns))\n",
    "\n",
    "df_ifl_scaled.head()"
   ]
  },
  {
   "cell_type": "code",
   "execution_count": 355,
   "metadata": {},
   "outputs": [
    {
     "data": {
      "image/png": "[encoded data removed]",
      "text/plain": [
       "<Figure size 720x288 with 3 Axes>"
      ]
     },
     "metadata": {},
     "output_type": "display_data"
    }
   ],
   "source": [
    "# visualize the distribution of \"Interaction_rate\", \"Frequency\", and \"Like_rate\"\n",
    "fig,(ax1,ax2,ax3)=plt.subplots(1,3,figsize=(10,4))\n",
    "\n",
    "# plot \"Interaction_rate\"\n",
    "ax1.hist(df_ifl_scaled['I'],bins=10,color='lightsteelblue')\n",
    "ax1.set_xticks(np.arange(0,5,1))\n",
    "ax1.set_xlabel('Interaction_rate')\n",
    "ax1.set_ylabel('number of author')\n",
    "\n",
    "# plot \"Frequency\"\n",
    "ax2.hist(df_ifl_scaled['F'],bins=10,color='lightsteelblue')\n",
    "ax2.set_xlabel('frequency')\n",
    "\n",
    "\n",
    "# plot \"Like_rate\"\n",
    "ax3.hist(df_ifl_scaled['L'],bins=10,color='lightsteelblue')\n",
    "ax3.set_xlabel('Like_rate')\n",
    "\n",
    "\n",
    "plt.tight_layout()"
   ]
  },
  {
   "cell_type": "code",
   "execution_count": 356,
   "metadata": {},
   "outputs": [
    {
     "data": {
      "text/html": [
       "<div>\n",
       "<style scoped>\n",
       "    .dataframe tbody tr th:only-of-type {\n",
       "        vertical-align: middle;\n",
       "    }\n",
       "\n",
       "    .dataframe tbody tr th {\n",
       "        vertical-align: top;\n",
       "    }\n",
       "\n",
       "    .dataframe thead th {\n",
       "        text-align: right;\n",
       "    }\n",
       "</style>\n",
       "<table border=\"1\" class=\"dataframe\">\n",
       "  <thead>\n",
       "    <tr style=\"text-align: right;\">\n",
       "      <th></th>\n",
       "      <th>count</th>\n",
       "      <th>mean</th>\n",
       "      <th>std</th>\n",
       "      <th>min</th>\n",
       "      <th>25%</th>\n",
       "      <th>50%</th>\n",
       "      <th>75%</th>\n",
       "      <th>max</th>\n",
       "    </tr>\n",
       "  </thead>\n",
       "  <tbody>\n",
       "    <tr>\n",
       "      <th>I</th>\n",
       "      <td>7133.0</td>\n",
       "      <td>0.027159</td>\n",
       "      <td>0.039503</td>\n",
       "      <td>0.0</td>\n",
       "      <td>0.006983</td>\n",
       "      <td>0.015751</td>\n",
       "      <td>0.033519</td>\n",
       "      <td>1.0</td>\n",
       "    </tr>\n",
       "    <tr>\n",
       "      <th>F</th>\n",
       "      <td>7133.0</td>\n",
       "      <td>0.032963</td>\n",
       "      <td>0.079263</td>\n",
       "      <td>0.0</td>\n",
       "      <td>0.000000</td>\n",
       "      <td>0.000000</td>\n",
       "      <td>0.026345</td>\n",
       "      <td>1.0</td>\n",
       "    </tr>\n",
       "    <tr>\n",
       "      <th>L</th>\n",
       "      <td>7133.0</td>\n",
       "      <td>0.071270</td>\n",
       "      <td>0.094866</td>\n",
       "      <td>0.0</td>\n",
       "      <td>0.012969</td>\n",
       "      <td>0.033898</td>\n",
       "      <td>0.091921</td>\n",
       "      <td>1.0</td>\n",
       "    </tr>\n",
       "  </tbody>\n",
       "</table>\n",
       "</div>"
      ],
      "text/plain": [
       "    count      mean       std  min       25%       50%       75%  max\n",
       "I  7133.0  0.027159  0.039503  0.0  0.006983  0.015751  0.033519  1.0\n",
       "F  7133.0  0.032963  0.079263  0.0  0.000000  0.000000  0.026345  1.0\n",
       "L  7133.0  0.071270  0.094866  0.0  0.012969  0.033898  0.091921  1.0"
      ]
     },
     "execution_count": 356,
     "metadata": {},
     "output_type": "execute_result"
    }
   ],
   "source": [
    "df_ifl_scaled.describe().T"
   ]
  },
  {
   "cell_type": "code",
   "execution_count": 357,
   "metadata": {
    "scrolled": true
   },
   "outputs": [
    {
     "data": {
      "image/png": "[encoded data removed]",
      "text/plain": [
       "<Figure size 432x288 with 1 Axes>"
      ]
     },
     "metadata": {},
     "output_type": "display_data"
    }
   ],
   "source": [
    "# 肘部法则--求解合适的K\n",
    "loss = []\n",
    "K = range(2,10)\n",
    "for i in K:\n",
    "    model = KMeans(n_clusters=i,random_state=99).fit(df_ifl_scaled)\n",
    "    loss.append(model.inertia_)\n",
    "    \n",
    "plt.plot(K,loss)\n",
    "plt.xlabel('k')\n",
    "plt.ylabel('loss')\n",
    "plt.title('The Elbow Method showing the optimal k')\n",
    "plt.plot(K,loss,'o-')\n",
    "plt.show()"
   ]
  },
  {
   "cell_type": "code",
   "execution_count": 358,
   "metadata": {
    "scrolled": true
   },
   "outputs": [
    {
     "name": "stdout",
     "output_type": "stream",
     "text": [
      "[[2, 0.5847778589176927], [3, 0.6205063323143789], [4, 0.5275901663672736], [5, 0.5337438172205685], [6, 0.5433272162509263], [7, 0.47772739209986675], [8, 0.4913603872068035], [9, 0.43737626422521136]]\n",
      "最优的K值是：3 \n",
      "对应的轮廓系数是0.6205063323143789\n"
     ]
    }
   ],
   "source": [
    "# 使用轮廓系数法\n",
    "from sklearn.metrics import silhouette_score\n",
    "\n",
    "score_list = list()\n",
    "silhouette_int = -1\n",
    "for n_clusters in range(2,10):\n",
    "    model_kmeans = KMeans(n_clusters=n_clusters)  #建立聚类模型对象\n",
    "    labels_tmp = model_kmeans.fit_predict(df_ifl_scaled)  #训练聚类模型\n",
    "    silhouette_tmp = silhouette_score(df_ifl_scaled, labels_tmp)  #得到每个K下的平均轮廓系数\n",
    "    if silhouette_tmp > silhouette_int:  #如果平均轮廓系数更高\n",
    "        best_k = n_clusters  #保存最佳的K值\n",
    "        silhouette_int = silhouette_tmp\n",
    "        best_kmeans = model_kmeans  #保存模型实例对象\n",
    "        cluster_labels_k = labels_tmp  #保存聚类标签\n",
    "    score_list.append([n_clusters, silhouette_tmp])  #将每次K值及其平均轮廓系数记录\n",
    "\n",
    "print(score_list)\n",
    "print('最优的K值是：{0} \\n对应的轮廓系数是{1}'.format(best_k, silhouette_int))"
   ]
  },
  {
   "cell_type": "code",
   "execution_count": 359,
   "metadata": {},
   "outputs": [
    {
     "data": {
      "text/plain": [
       "KMeans(n_clusters=3, random_state=99)"
      ]
     },
     "execution_count": 359,
     "metadata": {},
     "output_type": "execute_result"
    }
   ],
   "source": [
    "#采用k-measn聚类算法对客户数据进行客户分群，聚成3类\n",
    "kmodel = KMeans(n_clusters=3,random_state=99)\n",
    "kmodel.fit(df_ifl_scaled)"
   ]
  },
  {
   "cell_type": "code",
   "execution_count": 360,
   "metadata": {},
   "outputs": [
    {
     "data": {
      "text/plain": [
       "array([[0.01517841, 0.27739176, 0.07454979],\n",
       "       [0.02535494, 0.01538053, 0.03993332],\n",
       "       [0.04468698, 0.0201879 , 0.26823812]])"
      ]
     },
     "execution_count": 360,
     "metadata": {},
     "output_type": "execute_result"
    }
   ],
   "source": [
    "kmodel.cluster_centers_   #查看聚类中心"
   ]
  },
  {
   "cell_type": "code",
   "execution_count": 361,
   "metadata": {},
   "outputs": [
    {
     "data": {
      "text/plain": [
       "array([1, 1, 1, ..., 1, 2, 1], dtype=int32)"
      ]
     },
     "execution_count": 361,
     "metadata": {},
     "output_type": "execute_result"
    }
   ],
   "source": [
    "kmodel.labels_ #查看样本对应类别"
   ]
  },
  {
   "cell_type": "code",
   "execution_count": 362,
   "metadata": {
    "scrolled": true
   },
   "outputs": [
    {
     "data": {
      "text/html": [
       "<div>\n",
       "<style scoped>\n",
       "    .dataframe tbody tr th:only-of-type {\n",
       "        vertical-align: middle;\n",
       "    }\n",
       "\n",
       "    .dataframe tbody tr th {\n",
       "        vertical-align: top;\n",
       "    }\n",
       "\n",
       "    .dataframe thead th {\n",
       "        text-align: right;\n",
       "    }\n",
       "</style>\n",
       "<table border=\"1\" class=\"dataframe\">\n",
       "  <thead>\n",
       "    <tr style=\"text-align: right;\">\n",
       "      <th></th>\n",
       "      <th>I</th>\n",
       "      <th>F</th>\n",
       "      <th>L</th>\n",
       "      <th>labels</th>\n",
       "    </tr>\n",
       "  </thead>\n",
       "  <tbody>\n",
       "    <tr>\n",
       "      <th>0</th>\n",
       "      <td>0.001762</td>\n",
       "      <td>0.057399</td>\n",
       "      <td>0.005002</td>\n",
       "      <td>1</td>\n",
       "    </tr>\n",
       "    <tr>\n",
       "      <th>1</th>\n",
       "      <td>0.023180</td>\n",
       "      <td>0.000000</td>\n",
       "      <td>0.010003</td>\n",
       "      <td>1</td>\n",
       "    </tr>\n",
       "    <tr>\n",
       "      <th>2</th>\n",
       "      <td>0.004002</td>\n",
       "      <td>0.000000</td>\n",
       "      <td>0.009302</td>\n",
       "      <td>1</td>\n",
       "    </tr>\n",
       "    <tr>\n",
       "      <th>3</th>\n",
       "      <td>0.017764</td>\n",
       "      <td>0.248132</td>\n",
       "      <td>0.093120</td>\n",
       "      <td>0</td>\n",
       "    </tr>\n",
       "    <tr>\n",
       "      <th>4</th>\n",
       "      <td>0.012223</td>\n",
       "      <td>0.000000</td>\n",
       "      <td>0.003626</td>\n",
       "      <td>1</td>\n",
       "    </tr>\n",
       "  </tbody>\n",
       "</table>\n",
       "</div>"
      ],
      "text/plain": [
       "          I         F         L  labels\n",
       "0  0.001762  0.057399  0.005002       1\n",
       "1  0.023180  0.000000  0.010003       1\n",
       "2  0.004002  0.000000  0.009302       1\n",
       "3  0.017764  0.248132  0.093120       0\n",
       "4  0.012223  0.000000  0.003626       1"
      ]
     },
     "execution_count": 362,
     "metadata": {},
     "output_type": "execute_result"
    }
   ],
   "source": [
    "df_ifl_scaled['labels'] = kmodel.labels_  \n",
    "df_ifl_scaled.head()"
   ]
  },
  {
   "cell_type": "code",
   "execution_count": 363,
   "metadata": {},
   "outputs": [
    {
     "data": {
      "text/plain": [
       "labels\n",
       "0     461\n",
       "1    5763\n",
       "2     909\n",
       "Name: labels, dtype: int64"
      ]
     },
     "execution_count": 363,
     "metadata": {},
     "output_type": "execute_result"
    }
   ],
   "source": [
    "#查看各类别客户群人数\n",
    "df_ifl_scaled.groupby('labels')['labels'].count()"
   ]
  },
  {
   "cell_type": "code",
   "execution_count": 364,
   "metadata": {},
   "outputs": [
    {
     "data": {
      "text/plain": [
       "<matplotlib.axes._subplots.AxesSubplot at 0x7f7ff2d3b460>"
      ]
     },
     "execution_count": 364,
     "metadata": {},
     "output_type": "execute_result"
    },
    {
     "data": {
      "image/png": "[encoded data removed]",
      "text/plain": [
       "<Figure size 432x288 with 1 Axes>"
      ]
     },
     "metadata": {},
     "output_type": "display_data"
    }
   ],
   "source": [
    "plt.rcParams[\"font.family\"] = ['Arial Unicode MS']  # 用来正常显示中文标签\n",
    "plt.rcParams['axes.unicode_minus']=False #解决保存图像是负号'-'显示为方块的问题\n",
    "sns.scatterplot(x=\"I\", y=\"F\", hue=\"labels\", data =df_ifl_scaled, palette='Set1')"
   ]
  },
  {
   "cell_type": "code",
   "execution_count": 365,
   "metadata": {
    "scrolled": true
   },
   "outputs": [
    {
     "data": {
      "text/plain": [
       "<matplotlib.axes._subplots.AxesSubplot at 0x7f80232a17f0>"
      ]
     },
     "execution_count": 365,
     "metadata": {},
     "output_type": "execute_result"
    },
    {
     "data": {
      "image/png": "[encoded data removed]",
      "text/plain": [
       "<Figure size 432x288 with 1 Axes>"
      ]
     },
     "metadata": {},
     "output_type": "display_data"
    }
   ],
   "source": [
    "sns.scatterplot(x=\"F\", y=\"L\", hue=\"labels\", data =df_ifl_scaled, palette='Set1')"
   ]
  },
  {
   "cell_type": "code",
   "execution_count": 366,
   "metadata": {},
   "outputs": [
    {
     "data": {
      "text/plain": [
       "<matplotlib.axes._subplots.AxesSubplot at 0x7f8023324be0>"
      ]
     },
     "execution_count": 366,
     "metadata": {},
     "output_type": "execute_result"
    },
    {
     "data": {
      "image/png": "[encoded data removed]",
      "text/plain": [
       "<Figure size 432x288 with 1 Axes>"
      ]
     },
     "metadata": {},
     "output_type": "display_data"
    }
   ],
   "source": [
    "sns.scatterplot(x=\"I\", y=\"L\", hue=\"labels\", data =df_ifl_scaled, palette='Set1')"
   ]
  },
  {
   "cell_type": "code",
   "execution_count": 367,
   "metadata": {},
   "outputs": [
    {
     "data": {
      "image/png": "[encoded data removed]",
      "text/plain": [
       "<Figure size 576x360 with 1 Axes>"
      ]
     },
     "metadata": {},
     "output_type": "display_data"
    }
   ],
   "source": [
    "from mpl_toolkits.mplot3d import Axes3D\n",
    "# step 4_1: data preparation\n",
    "I=[]\n",
    "F=[]\n",
    "L=[]\n",
    "mycolors=['red','blue','green']\n",
    "#cluster_orders=[3,2,0,1]\n",
    "for i in range(3):\n",
    "    I.append(df_ifl_scaled.loc[df_ifl_standardize.labels==i,'I'].values.tolist())\n",
    "    F.append(df_ifl_scaled.loc[df_ifl_standardize.labels==i,'F'].values.tolist())\n",
    "    L.append(df_ifl_scaled.loc[df_ifl_standardize.labels==i,'L'].values.tolist())\n",
    "    \n",
    "# step 4_2: 3D scatter plot\n",
    "fig=plt.figure(figsize=(8,5))\n",
    "ax=Axes3D(fig)\n",
    "for i in range(3):\n",
    "    #ax.scatter(I[i], F[i], L[i], cmap='Set1',marker='o',alpha=0.5,label='cluster '+str(i))\n",
    "    ax.scatter(I[i], F[i], L[i],c=mycolors[i],marker='o',alpha=0.5,label='cluster '+str(i))\n",
    "ax.set_xlabel('Interaction')\n",
    "ax.set_ylabel('Frequency')\n",
    "ax.set_zlabel('Like')\n",
    "#ax.set_xlim(0,4)\n",
    "#ax.set_xticks(list(range(4)))\n",
    "ax.legend(loc='center left', bbox_to_anchor=(1, 0.5))\n",
    "plt.show()"
   ]
  },
  {
   "cell_type": "code",
   "execution_count": 368,
   "metadata": {
    "scrolled": false
   },
   "outputs": [
    {
     "data": {
      "text/html": [
       "<div>\n",
       "<style scoped>\n",
       "    .dataframe tbody tr th:only-of-type {\n",
       "        vertical-align: middle;\n",
       "    }\n",
       "\n",
       "    .dataframe tbody tr th {\n",
       "        vertical-align: top;\n",
       "    }\n",
       "\n",
       "    .dataframe thead th {\n",
       "        text-align: right;\n",
       "    }\n",
       "</style>\n",
       "<table border=\"1\" class=\"dataframe\">\n",
       "  <thead>\n",
       "    <tr style=\"text-align: right;\">\n",
       "      <th></th>\n",
       "      <th>I</th>\n",
       "      <th>F</th>\n",
       "      <th>L</th>\n",
       "      <th>labels</th>\n",
       "      <th>segments</th>\n",
       "    </tr>\n",
       "  </thead>\n",
       "  <tbody>\n",
       "    <tr>\n",
       "      <th>0</th>\n",
       "      <td>0.001762</td>\n",
       "      <td>0.057399</td>\n",
       "      <td>0.005002</td>\n",
       "      <td>1</td>\n",
       "      <td>New up_user</td>\n",
       "    </tr>\n",
       "    <tr>\n",
       "      <th>1</th>\n",
       "      <td>0.023180</td>\n",
       "      <td>0.000000</td>\n",
       "      <td>0.010003</td>\n",
       "      <td>1</td>\n",
       "      <td>New up_user</td>\n",
       "    </tr>\n",
       "    <tr>\n",
       "      <th>2</th>\n",
       "      <td>0.004002</td>\n",
       "      <td>0.000000</td>\n",
       "      <td>0.009302</td>\n",
       "      <td>1</td>\n",
       "      <td>New up_user</td>\n",
       "    </tr>\n",
       "    <tr>\n",
       "      <th>3</th>\n",
       "      <td>0.017764</td>\n",
       "      <td>0.248132</td>\n",
       "      <td>0.093120</td>\n",
       "      <td>0</td>\n",
       "      <td>Potential up_user</td>\n",
       "    </tr>\n",
       "    <tr>\n",
       "      <th>4</th>\n",
       "      <td>0.012223</td>\n",
       "      <td>0.000000</td>\n",
       "      <td>0.003626</td>\n",
       "      <td>1</td>\n",
       "      <td>New up_user</td>\n",
       "    </tr>\n",
       "  </tbody>\n",
       "</table>\n",
       "</div>"
      ],
      "text/plain": [
       "          I         F         L  labels           segments\n",
       "0  0.001762  0.057399  0.005002       1        New up_user\n",
       "1  0.023180  0.000000  0.010003       1        New up_user\n",
       "2  0.004002  0.000000  0.009302       1        New up_user\n",
       "3  0.017764  0.248132  0.093120       0  Potential up_user\n",
       "4  0.012223  0.000000  0.003626       1        New up_user"
      ]
     },
     "execution_count": 368,
     "metadata": {},
     "output_type": "execute_result"
    }
   ],
   "source": [
    "# replace k-means cluster names with more meaningful names\n",
    "d1={0:\"Potential up_user\", 1:\"New up_user\", 2: \"High Value up_user\"}\n",
    "df_ifl_scaled.loc[:,\"segments\"]=df_ifl_scaled.loc[:,\"labels\"].map(d1)\n",
    "\n",
    "df_ifl_scaled.head()"
   ]
  },
  {
   "cell_type": "code",
   "execution_count": 372,
   "metadata": {},
   "outputs": [
    {
     "data": {
      "text/html": [
       "<div>\n",
       "<style scoped>\n",
       "    .dataframe tbody tr th:only-of-type {\n",
       "        vertical-align: middle;\n",
       "    }\n",
       "\n",
       "    .dataframe tbody tr th {\n",
       "        vertical-align: top;\n",
       "    }\n",
       "\n",
       "    .dataframe thead th {\n",
       "        text-align: right;\n",
       "    }\n",
       "</style>\n",
       "<table border=\"1\" class=\"dataframe\">\n",
       "  <thead>\n",
       "    <tr style=\"text-align: right;\">\n",
       "      <th></th>\n",
       "      <th>count</th>\n",
       "      <th>mean</th>\n",
       "      <th>std</th>\n",
       "      <th>min</th>\n",
       "      <th>25%</th>\n",
       "      <th>50%</th>\n",
       "      <th>75%</th>\n",
       "      <th>max</th>\n",
       "    </tr>\n",
       "  </thead>\n",
       "  <tbody>\n",
       "    <tr>\n",
       "      <th>I</th>\n",
       "      <td>7133.0</td>\n",
       "      <td>0.027159</td>\n",
       "      <td>0.039503</td>\n",
       "      <td>0.0</td>\n",
       "      <td>0.006983</td>\n",
       "      <td>0.015751</td>\n",
       "      <td>0.033519</td>\n",
       "      <td>1.0</td>\n",
       "    </tr>\n",
       "    <tr>\n",
       "      <th>F</th>\n",
       "      <td>7133.0</td>\n",
       "      <td>0.032963</td>\n",
       "      <td>0.079263</td>\n",
       "      <td>0.0</td>\n",
       "      <td>0.000000</td>\n",
       "      <td>0.000000</td>\n",
       "      <td>0.026345</td>\n",
       "      <td>1.0</td>\n",
       "    </tr>\n",
       "    <tr>\n",
       "      <th>L</th>\n",
       "      <td>7133.0</td>\n",
       "      <td>0.071270</td>\n",
       "      <td>0.094866</td>\n",
       "      <td>0.0</td>\n",
       "      <td>0.012969</td>\n",
       "      <td>0.033898</td>\n",
       "      <td>0.091921</td>\n",
       "      <td>1.0</td>\n",
       "    </tr>\n",
       "    <tr>\n",
       "      <th>labels</th>\n",
       "      <td>7133.0</td>\n",
       "      <td>1.062807</td>\n",
       "      <td>0.433759</td>\n",
       "      <td>0.0</td>\n",
       "      <td>1.000000</td>\n",
       "      <td>1.000000</td>\n",
       "      <td>1.000000</td>\n",
       "      <td>2.0</td>\n",
       "    </tr>\n",
       "  </tbody>\n",
       "</table>\n",
       "</div>"
      ],
      "text/plain": [
       "         count      mean       std  min       25%       50%       75%  max\n",
       "I       7133.0  0.027159  0.039503  0.0  0.006983  0.015751  0.033519  1.0\n",
       "F       7133.0  0.032963  0.079263  0.0  0.000000  0.000000  0.026345  1.0\n",
       "L       7133.0  0.071270  0.094866  0.0  0.012969  0.033898  0.091921  1.0\n",
       "labels  7133.0  1.062807  0.433759  0.0  1.000000  1.000000  1.000000  2.0"
      ]
     },
     "execution_count": 372,
     "metadata": {},
     "output_type": "execute_result"
    }
   ],
   "source": [
    "df_ifl_scaled.describe().T"
   ]
  },
  {
   "cell_type": "code",
   "execution_count": 369,
   "metadata": {},
   "outputs": [
    {
     "data": {
      "text/plain": [
       "1    5763\n",
       "2     909\n",
       "0     461\n",
       "Name: labels, dtype: int64"
      ]
     },
     "execution_count": 369,
     "metadata": {},
     "output_type": "execute_result"
    }
   ],
   "source": [
    "df_ifl_scaled['labels'].value_counts()"
   ]
  },
  {
   "cell_type": "code",
   "execution_count": 378,
   "metadata": {
    "scrolled": false
   },
   "outputs": [
    {
     "data": {
      "image/png": "[encoded data removed]",
      "text/plain": [
       "<Figure size 720x288 with 2 Axes>"
      ]
     },
     "metadata": {},
     "output_type": "display_data"
    }
   ],
   "source": [
    "# up主分层可视化\n",
    "plt.figure(figsize=(10,4))\n",
    "seg_names=['Potential up_user','High Value up_user','New up_user']\n",
    "\n",
    "# plot the number of up_authors in each segment\n",
    "sns.set_style(\"white\")\n",
    "plt.axes([0, 0, 0.38, 0.9])\n",
    "seg=df_ifl_scaled.groupby('segments').size().to_frame().rename(columns={0:'number of up_users'}).reset_index()\n",
    "\n",
    "sns.barplot(x='number of up_users',y='segments',data=seg,order=seg_names,palette='Set1')\n",
    "for i in range(3):\n",
    "    number=int(seg.loc[seg.segments==seg_names[i],'number of up_users'])\n",
    "    x_pos=round(number,2)\n",
    "    plt.text(x_pos,i,number)   \n",
    "plt.ylabel(\"\")\n",
    "sns.despine()\n",
    "\n",
    "#显示Interaction_rate,Frequence,Like_rate的中值\n",
    "df_ifl2=df_ifl_scaled.groupby('segments').agg(I=('I',np.median),F=('F',np.median),L=('L',np.median),size=(\"labels\",\"size\")).reset_index()\n",
    "# df_ifl2=df_ifl_scaled.groupby('segments').agg(I=('I',np.mean),F=('F',np.mean),L=('L',np.mean),size=(\"labels\",\"size\")).reset_index()\n",
    "plt.axes([0.5,0,0.42,0.9])\n",
    "sns.scatterplot(x='I',y='F',hue='segments',hue_order=seg_names,palette='Set1',size='L',sizes=(200,1000),legend=False,data=df_ifl2)\n",
    "plt.xlabel('Interaction_rate')\n",
    "plt.ylabel('Frequence')\n",
    "sns.despine()"
   ]
  },
  {
   "cell_type": "code",
   "execution_count": null,
   "metadata": {},
   "outputs": [],
   "source": []
  }
 ],
 "metadata": {
  "kernelspec": {
   "display_name": "Python 3",
   "language": "python",
   "name": "python3"
  },
  "language_info": {
   "codemirror_mode": {
    "name": "ipython",
    "version": 3
   },
   "file_extension": ".py",
   "mimetype": "text/x-python",
   "name": "python",
   "nbconvert_exporter": "python",
   "pygments_lexer": "ipython3",
   "version": "3.8.3"
  }
 },
 "nbformat": 4,
 "nbformat_minor": 4
}
